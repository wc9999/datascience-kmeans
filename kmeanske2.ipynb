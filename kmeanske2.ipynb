{
  "nbformat": 4,
  "nbformat_minor": 0,
  "metadata": {
    "colab": {
      "name": "kmeanske2.ipynb",
      "provenance": [],
      "collapsed_sections": []
    },
    "kernelspec": {
      "display_name": "Python 3",
      "name": "python3"
    }
  },
  "cells": [
    {
      "cell_type": "code",
      "metadata": {
        "id": "fzn0zk_uIOZk"
      },
      "source": [
        "import pandas as pd\n",
        "import numpy as np\n",
        "import datetime\n",
        "from time import strftime\n",
        "\n",
        "from sklearn.model_selection import train_test_split\n",
        "from sklearn.model_selection import GridSearchCV\n",
        "from sklearn.preprocessing import LabelEncoder\n",
        "\n",
        "from sklearn.tree import DecisionTreeClassifier\n",
        "from sklearn.ensemble import RandomForestClassifier\n",
        "\n",
        "import matplotlib.pyplot as plt\n",
        "%matplotlib inline\n",
        "\n",
        "import seaborn as sns"
      ],
      "execution_count": null,
      "outputs": []
    },
    {
      "cell_type": "code",
      "metadata": {
        "id": "l79JNQduKx6G",
        "colab": {
          "base_uri": "https://localhost:8080/"
        },
        "outputId": "afccfb34-1433-4f73-cb89-2473259b3ab9"
      },
      "source": [
        "from google.colab import drive\n",
        "drive.mount('/content/drive')"
      ],
      "execution_count": null,
      "outputs": [
        {
          "output_type": "stream",
          "text": [
            "Mounted at /content/drive\n"
          ],
          "name": "stdout"
        }
      ]
    },
    {
      "cell_type": "code",
      "metadata": {
        "id": "QPcK3BzVKzkh"
      },
      "source": [
        "df1 = pd.read_csv('/content/drive/MyDrive/riset/dsp_pcrfquota_20200622.csv',sep=\";\", quotechar='\"' )"
      ],
      "execution_count": null,
      "outputs": []
    },
    {
      "cell_type": "code",
      "metadata": {
        "id": "V8FlR8bhN1Fh",
        "colab": {
          "base_uri": "https://localhost:8080/"
        },
        "outputId": "d62d664f-1288-44c8-b849-343d150e3750"
      },
      "source": [
        "print(\"The shape of the DataFrame is => {}\".format(df1.shape))"
      ],
      "execution_count": null,
      "outputs": [
        {
          "output_type": "stream",
          "text": [
            "The shape of the DataFrame is => (1048573, 7)\n"
          ],
          "name": "stdout"
        }
      ]
    },
    {
      "cell_type": "code",
      "metadata": {
        "id": "cCA8cvVFK6ps"
      },
      "source": [
        "df2 = pd.read_csv('/content/drive/MyDrive/riset/dsp_pcrfquota_20200629.csv',sep=\";\", quotechar='\"' )"
      ],
      "execution_count": null,
      "outputs": []
    },
    {
      "cell_type": "code",
      "metadata": {
        "id": "zADMWOAyL_Yk"
      },
      "source": [
        "df3 = pd.read_csv('/content/drive/MyDrive/riset/dsp_pcrfquota_20200706.csv',sep=\";\", quotechar='\"' )"
      ],
      "execution_count": null,
      "outputs": []
    },
    {
      "cell_type": "code",
      "metadata": {
        "id": "quw1_cp8Zhlf"
      },
      "source": [
        "df4 = pd.read_csv('/content/drive/MyDrive/riset/dsp_pcrfquota_20200713.csv',sep=\";\", quotechar='\"' )"
      ],
      "execution_count": null,
      "outputs": []
    },
    {
      "cell_type": "code",
      "metadata": {
        "id": "A2q-8gtgME7o"
      },
      "source": [
        "df = pd.concat([df1, df2, df3, df4])"
      ],
      "execution_count": null,
      "outputs": []
    },
    {
      "cell_type": "code",
      "metadata": {
        "colab": {
          "base_uri": "https://localhost:8080/"
        },
        "id": "AiqC_JzzN3yo",
        "outputId": "925b082f-dc96-453f-a5b4-fdbf01ca1689"
      },
      "source": [
        "print(\"The shape of the DataFrame is => {}\".format(df.shape))"
      ],
      "execution_count": null,
      "outputs": [
        {
          "output_type": "stream",
          "text": [
            "The shape of the DataFrame is => (4194292, 7)\n"
          ],
          "name": "stdout"
        }
      ]
    },
    {
      "cell_type": "markdown",
      "metadata": {
        "id": "pxdVZYsHaa_P"
      },
      "source": [
        "Basic Data"
      ]
    },
    {
      "cell_type": "code",
      "metadata": {
        "colab": {
          "base_uri": "https://localhost:8080/",
          "height": 194
        },
        "id": "3IoWecwMOA33",
        "outputId": "e01a4d48-144f-41d2-a82d-7ac92e67e9e2"
      },
      "source": [
        "df.head()"
      ],
      "execution_count": null,
      "outputs": [
        {
          "output_type": "execute_result",
          "data": {
            "text/html": [
              "<div>\n",
              "<style scoped>\n",
              "    .dataframe tbody tr th:only-of-type {\n",
              "        vertical-align: middle;\n",
              "    }\n",
              "\n",
              "    .dataframe tbody tr th {\n",
              "        vertical-align: top;\n",
              "    }\n",
              "\n",
              "    .dataframe thead th {\n",
              "        text-align: right;\n",
              "    }\n",
              "</style>\n",
              "<table border=\"1\" class=\"dataframe\">\n",
              "  <thead>\n",
              "    <tr style=\"text-align: right;\">\n",
              "      <th></th>\n",
              "      <th>msisdn</th>\n",
              "      <th>quotaname</th>\n",
              "      <th>quotavalue</th>\n",
              "      <th>quotainterval</th>\n",
              "      <th>balance</th>\n",
              "      <th>consumption</th>\n",
              "      <th>quotaintervaltype</th>\n",
              "    </tr>\n",
              "  </thead>\n",
              "  <tbody>\n",
              "    <tr>\n",
              "      <th>0</th>\n",
              "      <td>X28111001XXX</td>\n",
              "      <td>Q_PT_200</td>\n",
              "      <td>NaN</td>\n",
              "      <td>NaN</td>\n",
              "      <td>512000</td>\n",
              "      <td>0</td>\n",
              "      <td>NaN</td>\n",
              "    </tr>\n",
              "    <tr>\n",
              "      <th>1</th>\n",
              "      <td>X28111001XXX</td>\n",
              "      <td>Q_VB_Post_Movie1</td>\n",
              "      <td>26214400.0</td>\n",
              "      <td>20.0</td>\n",
              "      <td>25809408</td>\n",
              "      <td>404992</td>\n",
              "      <td>NaN</td>\n",
              "    </tr>\n",
              "    <tr>\n",
              "      <th>2</th>\n",
              "      <td>X28111001XXX</td>\n",
              "      <td>Q_VBDPI_Post_MyMovie1</td>\n",
              "      <td>26214400.0</td>\n",
              "      <td>20.0</td>\n",
              "      <td>26210688</td>\n",
              "      <td>3712</td>\n",
              "      <td>NaN</td>\n",
              "    </tr>\n",
              "    <tr>\n",
              "      <th>3</th>\n",
              "      <td>X28111001XXX</td>\n",
              "      <td>Q_MKT2_100</td>\n",
              "      <td>NaN</td>\n",
              "      <td>NaN</td>\n",
              "      <td>204800</td>\n",
              "      <td>0</td>\n",
              "      <td>NaN</td>\n",
              "    </tr>\n",
              "    <tr>\n",
              "      <th>4</th>\n",
              "      <td>6281110018XX</td>\n",
              "      <td>Q_MKT2_100</td>\n",
              "      <td>NaN</td>\n",
              "      <td>NaN</td>\n",
              "      <td>204800</td>\n",
              "      <td>0</td>\n",
              "      <td>NaN</td>\n",
              "    </tr>\n",
              "  </tbody>\n",
              "</table>\n",
              "</div>"
            ],
            "text/plain": [
              "         msisdn              quotaname  ...  consumption  quotaintervaltype\n",
              "0  X28111001XXX               Q_PT_200  ...            0                NaN\n",
              "1  X28111001XXX       Q_VB_Post_Movie1  ...       404992                NaN\n",
              "2  X28111001XXX  Q_VBDPI_Post_MyMovie1  ...         3712                NaN\n",
              "3  X28111001XXX             Q_MKT2_100  ...            0                NaN\n",
              "4  6281110018XX             Q_MKT2_100  ...            0                NaN\n",
              "\n",
              "[5 rows x 7 columns]"
            ]
          },
          "metadata": {
            "tags": []
          },
          "execution_count": 10
        }
      ]
    },
    {
      "cell_type": "code",
      "metadata": {
        "id": "GfE9Cj_pRL9K"
      },
      "source": [
        "df.drop(['quotaintervaltype'], axis=1, inplace=True)"
      ],
      "execution_count": null,
      "outputs": []
    },
    {
      "cell_type": "code",
      "metadata": {
        "colab": {
          "base_uri": "https://localhost:8080/",
          "height": 194
        },
        "id": "gcFW5tbeRM2-",
        "outputId": "7d0bff18-7b42-496f-b7a8-98179eca826d"
      },
      "source": [
        "df.head()"
      ],
      "execution_count": null,
      "outputs": [
        {
          "output_type": "execute_result",
          "data": {
            "text/html": [
              "<div>\n",
              "<style scoped>\n",
              "    .dataframe tbody tr th:only-of-type {\n",
              "        vertical-align: middle;\n",
              "    }\n",
              "\n",
              "    .dataframe tbody tr th {\n",
              "        vertical-align: top;\n",
              "    }\n",
              "\n",
              "    .dataframe thead th {\n",
              "        text-align: right;\n",
              "    }\n",
              "</style>\n",
              "<table border=\"1\" class=\"dataframe\">\n",
              "  <thead>\n",
              "    <tr style=\"text-align: right;\">\n",
              "      <th></th>\n",
              "      <th>msisdn</th>\n",
              "      <th>quotaname</th>\n",
              "      <th>quotavalue</th>\n",
              "      <th>quotainterval</th>\n",
              "      <th>balance</th>\n",
              "      <th>consumption</th>\n",
              "    </tr>\n",
              "  </thead>\n",
              "  <tbody>\n",
              "    <tr>\n",
              "      <th>0</th>\n",
              "      <td>X28111001XXX</td>\n",
              "      <td>Q_PT_200</td>\n",
              "      <td>NaN</td>\n",
              "      <td>NaN</td>\n",
              "      <td>512000</td>\n",
              "      <td>0</td>\n",
              "    </tr>\n",
              "    <tr>\n",
              "      <th>1</th>\n",
              "      <td>X28111001XXX</td>\n",
              "      <td>Q_VB_Post_Movie1</td>\n",
              "      <td>26214400.0</td>\n",
              "      <td>20.0</td>\n",
              "      <td>25809408</td>\n",
              "      <td>404992</td>\n",
              "    </tr>\n",
              "    <tr>\n",
              "      <th>2</th>\n",
              "      <td>X28111001XXX</td>\n",
              "      <td>Q_VBDPI_Post_MyMovie1</td>\n",
              "      <td>26214400.0</td>\n",
              "      <td>20.0</td>\n",
              "      <td>26210688</td>\n",
              "      <td>3712</td>\n",
              "    </tr>\n",
              "    <tr>\n",
              "      <th>3</th>\n",
              "      <td>X28111001XXX</td>\n",
              "      <td>Q_MKT2_100</td>\n",
              "      <td>NaN</td>\n",
              "      <td>NaN</td>\n",
              "      <td>204800</td>\n",
              "      <td>0</td>\n",
              "    </tr>\n",
              "    <tr>\n",
              "      <th>4</th>\n",
              "      <td>6281110018XX</td>\n",
              "      <td>Q_MKT2_100</td>\n",
              "      <td>NaN</td>\n",
              "      <td>NaN</td>\n",
              "      <td>204800</td>\n",
              "      <td>0</td>\n",
              "    </tr>\n",
              "  </tbody>\n",
              "</table>\n",
              "</div>"
            ],
            "text/plain": [
              "         msisdn              quotaname  ...   balance  consumption\n",
              "0  X28111001XXX               Q_PT_200  ...    512000            0\n",
              "1  X28111001XXX       Q_VB_Post_Movie1  ...  25809408       404992\n",
              "2  X28111001XXX  Q_VBDPI_Post_MyMovie1  ...  26210688         3712\n",
              "3  X28111001XXX             Q_MKT2_100  ...    204800            0\n",
              "4  6281110018XX             Q_MKT2_100  ...    204800            0\n",
              "\n",
              "[5 rows x 6 columns]"
            ]
          },
          "metadata": {
            "tags": []
          },
          "execution_count": 12
        }
      ]
    },
    {
      "cell_type": "code",
      "metadata": {
        "id": "cpA-3proPCw7"
      },
      "source": [
        "df = df.dropna()"
      ],
      "execution_count": null,
      "outputs": []
    },
    {
      "cell_type": "code",
      "metadata": {
        "colab": {
          "base_uri": "https://localhost:8080/",
          "height": 194
        },
        "id": "JlpKyTdpSIeC",
        "outputId": "dd6c4980-7344-41e5-8231-efb6d41a666f"
      },
      "source": [
        "df.head()"
      ],
      "execution_count": null,
      "outputs": [
        {
          "output_type": "execute_result",
          "data": {
            "text/html": [
              "<div>\n",
              "<style scoped>\n",
              "    .dataframe tbody tr th:only-of-type {\n",
              "        vertical-align: middle;\n",
              "    }\n",
              "\n",
              "    .dataframe tbody tr th {\n",
              "        vertical-align: top;\n",
              "    }\n",
              "\n",
              "    .dataframe thead th {\n",
              "        text-align: right;\n",
              "    }\n",
              "</style>\n",
              "<table border=\"1\" class=\"dataframe\">\n",
              "  <thead>\n",
              "    <tr style=\"text-align: right;\">\n",
              "      <th></th>\n",
              "      <th>msisdn</th>\n",
              "      <th>quotaname</th>\n",
              "      <th>quotavalue</th>\n",
              "      <th>quotainterval</th>\n",
              "      <th>balance</th>\n",
              "      <th>consumption</th>\n",
              "    </tr>\n",
              "  </thead>\n",
              "  <tbody>\n",
              "    <tr>\n",
              "      <th>1</th>\n",
              "      <td>X28111001XXX</td>\n",
              "      <td>Q_VB_Post_Movie1</td>\n",
              "      <td>26214400.0</td>\n",
              "      <td>20.0</td>\n",
              "      <td>25809408</td>\n",
              "      <td>404992</td>\n",
              "    </tr>\n",
              "    <tr>\n",
              "      <th>2</th>\n",
              "      <td>X28111001XXX</td>\n",
              "      <td>Q_VBDPI_Post_MyMovie1</td>\n",
              "      <td>26214400.0</td>\n",
              "      <td>20.0</td>\n",
              "      <td>26210688</td>\n",
              "      <td>3712</td>\n",
              "    </tr>\n",
              "    <tr>\n",
              "      <th>5</th>\n",
              "      <td>6281110018XX</td>\n",
              "      <td>Q_VBDPI_Post_MyMovie1</td>\n",
              "      <td>10485760.0</td>\n",
              "      <td>20.0</td>\n",
              "      <td>10485760</td>\n",
              "      <td>0</td>\n",
              "    </tr>\n",
              "    <tr>\n",
              "      <th>7</th>\n",
              "      <td>6281110018XX</td>\n",
              "      <td>Q_VB4G_Post_Movie1</td>\n",
              "      <td>8388608.0</td>\n",
              "      <td>20.0</td>\n",
              "      <td>8388608</td>\n",
              "      <td>0</td>\n",
              "    </tr>\n",
              "    <tr>\n",
              "      <th>8</th>\n",
              "      <td>6281110018XX</td>\n",
              "      <td>Q_VB_Post_Movie1</td>\n",
              "      <td>2097152.0</td>\n",
              "      <td>20.0</td>\n",
              "      <td>2097152</td>\n",
              "      <td>0</td>\n",
              "    </tr>\n",
              "  </tbody>\n",
              "</table>\n",
              "</div>"
            ],
            "text/plain": [
              "         msisdn              quotaname  ...   balance  consumption\n",
              "1  X28111001XXX       Q_VB_Post_Movie1  ...  25809408       404992\n",
              "2  X28111001XXX  Q_VBDPI_Post_MyMovie1  ...  26210688         3712\n",
              "5  6281110018XX  Q_VBDPI_Post_MyMovie1  ...  10485760            0\n",
              "7  6281110018XX     Q_VB4G_Post_Movie1  ...   8388608            0\n",
              "8  6281110018XX       Q_VB_Post_Movie1  ...   2097152            0\n",
              "\n",
              "[5 rows x 6 columns]"
            ]
          },
          "metadata": {
            "tags": []
          },
          "execution_count": 14
        }
      ]
    },
    {
      "cell_type": "code",
      "metadata": {
        "colab": {
          "base_uri": "https://localhost:8080/"
        },
        "id": "SH0wTYpJPGFX",
        "outputId": "377bb243-1ba4-4ef3-def7-a0d1c2540c32"
      },
      "source": [
        "df.info()"
      ],
      "execution_count": null,
      "outputs": [
        {
          "output_type": "stream",
          "text": [
            "<class 'pandas.core.frame.DataFrame'>\n",
            "Int64Index: 302341 entries, 1 to 1048564\n",
            "Data columns (total 6 columns):\n",
            " #   Column         Non-Null Count   Dtype  \n",
            "---  ------         --------------   -----  \n",
            " 0   msisdn         302341 non-null  object \n",
            " 1   quotaname      302341 non-null  object \n",
            " 2   quotavalue     302341 non-null  float64\n",
            " 3   quotainterval  302341 non-null  float64\n",
            " 4   balance        302341 non-null  int64  \n",
            " 5   consumption    302341 non-null  int64  \n",
            "dtypes: float64(2), int64(2), object(2)\n",
            "memory usage: 16.1+ MB\n"
          ],
          "name": "stdout"
        }
      ]
    },
    {
      "cell_type": "code",
      "metadata": {
        "colab": {
          "base_uri": "https://localhost:8080/"
        },
        "id": "ga0kO3mTRdtt",
        "outputId": "9e22a2ca-10da-4c84-9d50-6eafe7da079e"
      },
      "source": [
        "print(\"Unique Values in `balance` => {}\".format(np.sort(df.quotavalue.unique())))"
      ],
      "execution_count": null,
      "outputs": [
        {
          "output_type": "stream",
          "text": [
            "Unique Values in `balance` => [1.00000000e+00 3.07200000e+03 1.02400000e+04 2.04800000e+04\n",
            " 2.56000000e+04 5.12000000e+04 1.02400000e+05 1.02470000e+05\n",
            " 1.53600000e+05 2.04800000e+05 2.56000000e+05 3.07200000e+05\n",
            " 5.12000000e+05 5.24289000e+05 6.14400000e+05 1.02400000e+06\n",
            " 1.04857600e+06 1.57286400e+06 1.67772200e+06 1.88743700e+06\n",
            " 2.08486400e+06 2.09715200e+06 2.09722200e+06 2.60915200e+06\n",
            " 2.62144000e+06 3.14572800e+06 3.67001600e+06 4.19430400e+06\n",
            " 5.24288000e+06 6.29145600e+06 8.38860800e+06 1.04857600e+07\n",
            " 1.25829120e+07 1.25829820e+07 1.46800640e+07 1.57286400e+07\n",
            " 1.67772160e+07 1.88743680e+07 2.09715200e+07 2.30686720e+07\n",
            " 2.51658240e+07 2.62144000e+07 3.14572800e+07 3.35544320e+07\n",
            " 3.67001600e+07 3.98458880e+07 4.19430400e+07 5.24288000e+07\n",
            " 6.29145600e+07 7.34003200e+07 7.86432000e+07 8.38860800e+07\n",
            " 8.91289600e+07 1.03809024e+08 1.04857600e+08 1.25829120e+08\n",
            " 1.67772160e+08]\n"
          ],
          "name": "stdout"
        }
      ]
    },
    {
      "cell_type": "code",
      "metadata": {
        "colab": {
          "base_uri": "https://localhost:8080/"
        },
        "id": "UH_pnynNRgMb",
        "outputId": "d9a557cc-90f2-49af-c1d1-0693cb567422"
      },
      "source": [
        "print(\"The shape of the DataFrame is => {}\".format(df.shape))"
      ],
      "execution_count": null,
      "outputs": [
        {
          "output_type": "stream",
          "text": [
            "The shape of the DataFrame is => (302341, 6)\n"
          ],
          "name": "stdout"
        }
      ]
    },
    {
      "cell_type": "code",
      "metadata": {
        "id": "tYfqOWBHSjww"
      },
      "source": [
        "df['quotavalue'] = df['quotavalue'].astype('int64')\n",
        "df['quotainterval'] = df['quotainterval'].astype('int64')"
      ],
      "execution_count": null,
      "outputs": []
    },
    {
      "cell_type": "code",
      "metadata": {
        "colab": {
          "base_uri": "https://localhost:8080/"
        },
        "id": "Ha65qK35Snhx",
        "outputId": "ee20dd52-c465-4f80-8ece-d767e941660a"
      },
      "source": [
        "df.info()"
      ],
      "execution_count": null,
      "outputs": [
        {
          "output_type": "stream",
          "text": [
            "<class 'pandas.core.frame.DataFrame'>\n",
            "Int64Index: 302341 entries, 1 to 1048564\n",
            "Data columns (total 6 columns):\n",
            " #   Column         Non-Null Count   Dtype \n",
            "---  ------         --------------   ----- \n",
            " 0   msisdn         302341 non-null  object\n",
            " 1   quotaname      302341 non-null  object\n",
            " 2   quotavalue     302341 non-null  int64 \n",
            " 3   quotainterval  302341 non-null  int64 \n",
            " 4   balance        302341 non-null  int64 \n",
            " 5   consumption    302341 non-null  int64 \n",
            "dtypes: int64(4), object(2)\n",
            "memory usage: 16.1+ MB\n"
          ],
          "name": "stdout"
        }
      ]
    },
    {
      "cell_type": "code",
      "metadata": {
        "colab": {
          "base_uri": "https://localhost:8080/",
          "height": 282
        },
        "id": "V5G-z1hZSq6f",
        "outputId": "1bc9acb1-9ae0-4715-c0d1-6ada63276e25"
      },
      "source": [
        "df.describe()"
      ],
      "execution_count": null,
      "outputs": [
        {
          "output_type": "execute_result",
          "data": {
            "text/html": [
              "<div>\n",
              "<style scoped>\n",
              "    .dataframe tbody tr th:only-of-type {\n",
              "        vertical-align: middle;\n",
              "    }\n",
              "\n",
              "    .dataframe tbody tr th {\n",
              "        vertical-align: top;\n",
              "    }\n",
              "\n",
              "    .dataframe thead th {\n",
              "        text-align: right;\n",
              "    }\n",
              "</style>\n",
              "<table border=\"1\" class=\"dataframe\">\n",
              "  <thead>\n",
              "    <tr style=\"text-align: right;\">\n",
              "      <th></th>\n",
              "      <th>quotavalue</th>\n",
              "      <th>quotainterval</th>\n",
              "      <th>balance</th>\n",
              "      <th>consumption</th>\n",
              "    </tr>\n",
              "  </thead>\n",
              "  <tbody>\n",
              "    <tr>\n",
              "      <th>count</th>\n",
              "      <td>3.023410e+05</td>\n",
              "      <td>302341.000000</td>\n",
              "      <td>3.023410e+05</td>\n",
              "      <td>3.023410e+05</td>\n",
              "    </tr>\n",
              "    <tr>\n",
              "      <th>mean</th>\n",
              "      <td>9.861835e+06</td>\n",
              "      <td>10.687611</td>\n",
              "      <td>8.200151e+06</td>\n",
              "      <td>1.617219e+06</td>\n",
              "    </tr>\n",
              "    <tr>\n",
              "      <th>std</th>\n",
              "      <td>1.070176e+07</td>\n",
              "      <td>7.181536</td>\n",
              "      <td>1.042170e+07</td>\n",
              "      <td>3.675822e+06</td>\n",
              "    </tr>\n",
              "    <tr>\n",
              "      <th>min</th>\n",
              "      <td>1.000000e+00</td>\n",
              "      <td>0.000000</td>\n",
              "      <td>0.000000e+00</td>\n",
              "      <td>0.000000e+00</td>\n",
              "    </tr>\n",
              "    <tr>\n",
              "      <th>25%</th>\n",
              "      <td>3.145728e+06</td>\n",
              "      <td>6.000000</td>\n",
              "      <td>1.676416e+06</td>\n",
              "      <td>0.000000e+00</td>\n",
              "    </tr>\n",
              "    <tr>\n",
              "      <th>50%</th>\n",
              "      <td>8.388608e+06</td>\n",
              "      <td>11.000000</td>\n",
              "      <td>4.242486e+06</td>\n",
              "      <td>4.838400e+04</td>\n",
              "    </tr>\n",
              "    <tr>\n",
              "      <th>75%</th>\n",
              "      <td>1.258291e+07</td>\n",
              "      <td>20.000000</td>\n",
              "      <td>1.048576e+07</td>\n",
              "      <td>1.353216e+06</td>\n",
              "    </tr>\n",
              "    <tr>\n",
              "      <th>max</th>\n",
              "      <td>1.677722e+08</td>\n",
              "      <td>90.000000</td>\n",
              "      <td>1.677702e+08</td>\n",
              "      <td>1.258294e+08</td>\n",
              "    </tr>\n",
              "  </tbody>\n",
              "</table>\n",
              "</div>"
            ],
            "text/plain": [
              "         quotavalue  quotainterval       balance   consumption\n",
              "count  3.023410e+05  302341.000000  3.023410e+05  3.023410e+05\n",
              "mean   9.861835e+06      10.687611  8.200151e+06  1.617219e+06\n",
              "std    1.070176e+07       7.181536  1.042170e+07  3.675822e+06\n",
              "min    1.000000e+00       0.000000  0.000000e+00  0.000000e+00\n",
              "25%    3.145728e+06       6.000000  1.676416e+06  0.000000e+00\n",
              "50%    8.388608e+06      11.000000  4.242486e+06  4.838400e+04\n",
              "75%    1.258291e+07      20.000000  1.048576e+07  1.353216e+06\n",
              "max    1.677722e+08      90.000000  1.677702e+08  1.258294e+08"
            ]
          },
          "metadata": {
            "tags": []
          },
          "execution_count": 20
        }
      ]
    },
    {
      "cell_type": "code",
      "metadata": {
        "colab": {
          "base_uri": "https://localhost:8080/",
          "height": 340
        },
        "id": "wfVzWGU5S4A-",
        "outputId": "82ceea6c-5033-4ec8-9c34-b3027b5d97e3"
      },
      "source": [
        "df['sum']=df['quotavalue']-df['consumption']\n",
        "# df['sum']=df['sum']<0 * -1\n",
        "# df['sum']=abs(df['sum'])\n",
        "\n",
        "df.sample(n=10)"
      ],
      "execution_count": null,
      "outputs": [
        {
          "output_type": "execute_result",
          "data": {
            "text/html": [
              "<div>\n",
              "<style scoped>\n",
              "    .dataframe tbody tr th:only-of-type {\n",
              "        vertical-align: middle;\n",
              "    }\n",
              "\n",
              "    .dataframe tbody tr th {\n",
              "        vertical-align: top;\n",
              "    }\n",
              "\n",
              "    .dataframe thead th {\n",
              "        text-align: right;\n",
              "    }\n",
              "</style>\n",
              "<table border=\"1\" class=\"dataframe\">\n",
              "  <thead>\n",
              "    <tr style=\"text-align: right;\">\n",
              "      <th></th>\n",
              "      <th>msisdn</th>\n",
              "      <th>quotaname</th>\n",
              "      <th>quotavalue</th>\n",
              "      <th>quotainterval</th>\n",
              "      <th>balance</th>\n",
              "      <th>consumption</th>\n",
              "      <th>sum</th>\n",
              "    </tr>\n",
              "  </thead>\n",
              "  <tbody>\n",
              "    <tr>\n",
              "      <th>1032552</th>\n",
              "      <td>62X111X7077XX</td>\n",
              "      <td>888</td>\n",
              "      <td>12582912</td>\n",
              "      <td>1</td>\n",
              "      <td>12582889</td>\n",
              "      <td>23</td>\n",
              "      <td>12582889</td>\n",
              "    </tr>\n",
              "    <tr>\n",
              "      <th>85521</th>\n",
              "      <td>X2811993X8XX</td>\n",
              "      <td>888</td>\n",
              "      <td>12582912</td>\n",
              "      <td>20</td>\n",
              "      <td>0</td>\n",
              "      <td>12582929</td>\n",
              "      <td>-17</td>\n",
              "    </tr>\n",
              "    <tr>\n",
              "      <th>1018462</th>\n",
              "      <td>6X8X1XX06X8XX</td>\n",
              "      <td>Q_VBDPI_Post_MyMovie1</td>\n",
              "      <td>16777216</td>\n",
              "      <td>20</td>\n",
              "      <td>16674688</td>\n",
              "      <td>102528</td>\n",
              "      <td>16674688</td>\n",
              "    </tr>\n",
              "    <tr>\n",
              "      <th>1034643</th>\n",
              "      <td>62811119X3XX</td>\n",
              "      <td>Q_VBDPI_Post_MyMovie1</td>\n",
              "      <td>5242880</td>\n",
              "      <td>11</td>\n",
              "      <td>5120768</td>\n",
              "      <td>122112</td>\n",
              "      <td>5120768</td>\n",
              "    </tr>\n",
              "    <tr>\n",
              "      <th>430328</th>\n",
              "      <td>62812971706XX</td>\n",
              "      <td>Q_VBDPI_Post_MyMovie1</td>\n",
              "      <td>5242880</td>\n",
              "      <td>11</td>\n",
              "      <td>5165952</td>\n",
              "      <td>76928</td>\n",
              "      <td>5165952</td>\n",
              "    </tr>\n",
              "    <tr>\n",
              "      <th>516063</th>\n",
              "      <td>628131811XXXX</td>\n",
              "      <td>Q_VBDPI_Post_MyMovie1</td>\n",
              "      <td>16777216</td>\n",
              "      <td>20</td>\n",
              "      <td>16578048</td>\n",
              "      <td>199168</td>\n",
              "      <td>16578048</td>\n",
              "    </tr>\n",
              "    <tr>\n",
              "      <th>480190</th>\n",
              "      <td>628111133XX</td>\n",
              "      <td>Q_VB4G_Post_Movie1</td>\n",
              "      <td>12582912</td>\n",
              "      <td>6</td>\n",
              "      <td>12544384</td>\n",
              "      <td>38528</td>\n",
              "      <td>12544384</td>\n",
              "    </tr>\n",
              "    <tr>\n",
              "      <th>847484</th>\n",
              "      <td>X2821112838XX</td>\n",
              "      <td>Q_VB4G_Post_Movie1</td>\n",
              "      <td>12582912</td>\n",
              "      <td>20</td>\n",
              "      <td>5763968</td>\n",
              "      <td>6818944</td>\n",
              "      <td>5763968</td>\n",
              "    </tr>\n",
              "    <tr>\n",
              "      <th>955231</th>\n",
              "      <td>6281181X1XXX</td>\n",
              "      <td>Q_VB4G_Post_Movie2</td>\n",
              "      <td>4194304</td>\n",
              "      <td>11</td>\n",
              "      <td>0</td>\n",
              "      <td>4194688</td>\n",
              "      <td>-384</td>\n",
              "    </tr>\n",
              "    <tr>\n",
              "      <th>477572</th>\n",
              "      <td>62X1110972XX</td>\n",
              "      <td>Q_VB_post_EKRC</td>\n",
              "      <td>20971520</td>\n",
              "      <td>1</td>\n",
              "      <td>13609896</td>\n",
              "      <td>7361624</td>\n",
              "      <td>13609896</td>\n",
              "    </tr>\n",
              "  </tbody>\n",
              "</table>\n",
              "</div>"
            ],
            "text/plain": [
              "                msisdn              quotaname  ...  consumption       sum\n",
              "1032552  62X111X7077XX                    888  ...           23  12582889\n",
              "85521     X2811993X8XX                    888  ...     12582929       -17\n",
              "1018462  6X8X1XX06X8XX  Q_VBDPI_Post_MyMovie1  ...       102528  16674688\n",
              "1034643   62811119X3XX  Q_VBDPI_Post_MyMovie1  ...       122112   5120768\n",
              "430328   62812971706XX  Q_VBDPI_Post_MyMovie1  ...        76928   5165952\n",
              "516063   628131811XXXX  Q_VBDPI_Post_MyMovie1  ...       199168  16578048\n",
              "480190     628111133XX     Q_VB4G_Post_Movie1  ...        38528  12544384\n",
              "847484   X2821112838XX     Q_VB4G_Post_Movie1  ...      6818944   5763968\n",
              "955231    6281181X1XXX     Q_VB4G_Post_Movie2  ...      4194688      -384\n",
              "477572    62X1110972XX         Q_VB_post_EKRC  ...      7361624  13609896\n",
              "\n",
              "[10 rows x 7 columns]"
            ]
          },
          "metadata": {
            "tags": []
          },
          "execution_count": 21
        }
      ]
    },
    {
      "cell_type": "code",
      "metadata": {
        "colab": {
          "base_uri": "https://localhost:8080/",
          "height": 487
        },
        "id": "exzeDh8XS8Qu",
        "outputId": "a2bec338-878c-46bb-800a-e18a5780539e"
      },
      "source": [
        "df['status']=df['balance']==df['sum']\n",
        "df.sample(n=15)"
      ],
      "execution_count": null,
      "outputs": [
        {
          "output_type": "execute_result",
          "data": {
            "text/html": [
              "<div>\n",
              "<style scoped>\n",
              "    .dataframe tbody tr th:only-of-type {\n",
              "        vertical-align: middle;\n",
              "    }\n",
              "\n",
              "    .dataframe tbody tr th {\n",
              "        vertical-align: top;\n",
              "    }\n",
              "\n",
              "    .dataframe thead th {\n",
              "        text-align: right;\n",
              "    }\n",
              "</style>\n",
              "<table border=\"1\" class=\"dataframe\">\n",
              "  <thead>\n",
              "    <tr style=\"text-align: right;\">\n",
              "      <th></th>\n",
              "      <th>msisdn</th>\n",
              "      <th>quotaname</th>\n",
              "      <th>quotavalue</th>\n",
              "      <th>quotainterval</th>\n",
              "      <th>balance</th>\n",
              "      <th>consumption</th>\n",
              "      <th>sum</th>\n",
              "      <th>status</th>\n",
              "    </tr>\n",
              "  </thead>\n",
              "  <tbody>\n",
              "    <tr>\n",
              "      <th>245066</th>\n",
              "      <td>6281210222XX</td>\n",
              "      <td>Q_Pos_MyPlan100K_GOLD_Data</td>\n",
              "      <td>2097152</td>\n",
              "      <td>1</td>\n",
              "      <td>2097152</td>\n",
              "      <td>0</td>\n",
              "      <td>2097152</td>\n",
              "      <td>True</td>\n",
              "    </tr>\n",
              "    <tr>\n",
              "      <th>876785</th>\n",
              "      <td>X28119432XXX</td>\n",
              "      <td>Q_VB_Post_Movie1</td>\n",
              "      <td>1048576</td>\n",
              "      <td>11</td>\n",
              "      <td>1048576</td>\n",
              "      <td>0</td>\n",
              "      <td>1048576</td>\n",
              "      <td>True</td>\n",
              "    </tr>\n",
              "    <tr>\n",
              "      <th>883859</th>\n",
              "      <td>62X12136125XX</td>\n",
              "      <td>Q_VB4G_Post_Movie1</td>\n",
              "      <td>12582912</td>\n",
              "      <td>1</td>\n",
              "      <td>0</td>\n",
              "      <td>12583040</td>\n",
              "      <td>-128</td>\n",
              "      <td>False</td>\n",
              "    </tr>\n",
              "    <tr>\n",
              "      <th>83328</th>\n",
              "      <td>628118339XX</td>\n",
              "      <td>Q_VB_Post_Movie1</td>\n",
              "      <td>10485760</td>\n",
              "      <td>1</td>\n",
              "      <td>10485760</td>\n",
              "      <td>0</td>\n",
              "      <td>10485760</td>\n",
              "      <td>True</td>\n",
              "    </tr>\n",
              "    <tr>\n",
              "      <th>573379</th>\n",
              "      <td>X281281X1X0XX</td>\n",
              "      <td>Q_VB4G_Post_FreeQuotaUtil</td>\n",
              "      <td>5242880</td>\n",
              "      <td>6</td>\n",
              "      <td>0</td>\n",
              "      <td>5242881</td>\n",
              "      <td>-1</td>\n",
              "      <td>False</td>\n",
              "    </tr>\n",
              "    <tr>\n",
              "      <th>236791</th>\n",
              "      <td>62852881X8XXX</td>\n",
              "      <td>Q_VB4G_Post_Movie1</td>\n",
              "      <td>12582912</td>\n",
              "      <td>11</td>\n",
              "      <td>0</td>\n",
              "      <td>12583040</td>\n",
              "      <td>-128</td>\n",
              "      <td>False</td>\n",
              "    </tr>\n",
              "    <tr>\n",
              "      <th>402934</th>\n",
              "      <td>6281199893XX</td>\n",
              "      <td>Q_VB4G_Post_Movie1</td>\n",
              "      <td>4194304</td>\n",
              "      <td>11</td>\n",
              "      <td>983168</td>\n",
              "      <td>3211136</td>\n",
              "      <td>983168</td>\n",
              "      <td>True</td>\n",
              "    </tr>\n",
              "    <tr>\n",
              "      <th>949309</th>\n",
              "      <td>6282299X678XX</td>\n",
              "      <td>Q_VBDPI_Post_MyMovie1</td>\n",
              "      <td>10485760</td>\n",
              "      <td>11</td>\n",
              "      <td>10370688</td>\n",
              "      <td>115072</td>\n",
              "      <td>10370688</td>\n",
              "      <td>True</td>\n",
              "    </tr>\n",
              "    <tr>\n",
              "      <th>102189</th>\n",
              "      <td>62812880447XX</td>\n",
              "      <td>Q_VB4G_Post_Movie1</td>\n",
              "      <td>12582912</td>\n",
              "      <td>20</td>\n",
              "      <td>10279168</td>\n",
              "      <td>2303744</td>\n",
              "      <td>10279168</td>\n",
              "      <td>True</td>\n",
              "    </tr>\n",
              "    <tr>\n",
              "      <th>419380</th>\n",
              "      <td>62X12X4X2X2XX</td>\n",
              "      <td>Q_VBDPI_Post_MyMovie1</td>\n",
              "      <td>15728640</td>\n",
              "      <td>11</td>\n",
              "      <td>15717888</td>\n",
              "      <td>10752</td>\n",
              "      <td>15717888</td>\n",
              "      <td>True</td>\n",
              "    </tr>\n",
              "    <tr>\n",
              "      <th>243739</th>\n",
              "      <td>62811X118XXX</td>\n",
              "      <td>Q_VBDPI_Post_MyMovie1</td>\n",
              "      <td>26214400</td>\n",
              "      <td>20</td>\n",
              "      <td>26204800</td>\n",
              "      <td>9600</td>\n",
              "      <td>26204800</td>\n",
              "      <td>True</td>\n",
              "    </tr>\n",
              "    <tr>\n",
              "      <th>960086</th>\n",
              "      <td>6281197299XX</td>\n",
              "      <td>Q_VB_Post_ADD</td>\n",
              "      <td>1048576</td>\n",
              "      <td>20</td>\n",
              "      <td>0</td>\n",
              "      <td>1048653</td>\n",
              "      <td>-77</td>\n",
              "      <td>False</td>\n",
              "    </tr>\n",
              "    <tr>\n",
              "      <th>680594</th>\n",
              "      <td>6X81X701888XX</td>\n",
              "      <td>Q_VB4G_Post_Movie1</td>\n",
              "      <td>12582912</td>\n",
              "      <td>6</td>\n",
              "      <td>11307648</td>\n",
              "      <td>1275264</td>\n",
              "      <td>11307648</td>\n",
              "      <td>True</td>\n",
              "    </tr>\n",
              "    <tr>\n",
              "      <th>321491</th>\n",
              "      <td>62X116X044XX</td>\n",
              "      <td>888</td>\n",
              "      <td>153600</td>\n",
              "      <td>16</td>\n",
              "      <td>152636</td>\n",
              "      <td>964</td>\n",
              "      <td>152636</td>\n",
              "      <td>True</td>\n",
              "    </tr>\n",
              "    <tr>\n",
              "      <th>480344</th>\n",
              "      <td>628XX26383XX</td>\n",
              "      <td>Q_VB4G_Post_Movie2</td>\n",
              "      <td>4194304</td>\n",
              "      <td>20</td>\n",
              "      <td>2793344</td>\n",
              "      <td>1400960</td>\n",
              "      <td>2793344</td>\n",
              "      <td>True</td>\n",
              "    </tr>\n",
              "  </tbody>\n",
              "</table>\n",
              "</div>"
            ],
            "text/plain": [
              "               msisdn                   quotaname  ...       sum  status\n",
              "245066   6281210222XX  Q_Pos_MyPlan100K_GOLD_Data  ...   2097152    True\n",
              "876785   X28119432XXX            Q_VB_Post_Movie1  ...   1048576    True\n",
              "883859  62X12136125XX          Q_VB4G_Post_Movie1  ...      -128   False\n",
              "83328     628118339XX            Q_VB_Post_Movie1  ...  10485760    True\n",
              "573379  X281281X1X0XX   Q_VB4G_Post_FreeQuotaUtil  ...        -1   False\n",
              "236791  62852881X8XXX          Q_VB4G_Post_Movie1  ...      -128   False\n",
              "402934   6281199893XX          Q_VB4G_Post_Movie1  ...    983168    True\n",
              "949309  6282299X678XX       Q_VBDPI_Post_MyMovie1  ...  10370688    True\n",
              "102189  62812880447XX          Q_VB4G_Post_Movie1  ...  10279168    True\n",
              "419380  62X12X4X2X2XX       Q_VBDPI_Post_MyMovie1  ...  15717888    True\n",
              "243739   62811X118XXX       Q_VBDPI_Post_MyMovie1  ...  26204800    True\n",
              "960086   6281197299XX               Q_VB_Post_ADD  ...       -77   False\n",
              "680594  6X81X701888XX          Q_VB4G_Post_Movie1  ...  11307648    True\n",
              "321491   62X116X044XX                         888  ...    152636    True\n",
              "480344   628XX26383XX          Q_VB4G_Post_Movie2  ...   2793344    True\n",
              "\n",
              "[15 rows x 8 columns]"
            ]
          },
          "metadata": {
            "tags": []
          },
          "execution_count": 22
        }
      ]
    },
    {
      "cell_type": "code",
      "metadata": {
        "colab": {
          "base_uri": "https://localhost:8080/",
          "height": 194
        },
        "id": "4bwor9ibTA4j",
        "outputId": "8924605a-bbad-4d8d-9d2f-584fe63f54ce"
      },
      "source": [
        "df['status'] = df['status'].replace({True: 'Normal', False: 'Fraud'})\n",
        "df.tail()"
      ],
      "execution_count": null,
      "outputs": [
        {
          "output_type": "execute_result",
          "data": {
            "text/html": [
              "<div>\n",
              "<style scoped>\n",
              "    .dataframe tbody tr th:only-of-type {\n",
              "        vertical-align: middle;\n",
              "    }\n",
              "\n",
              "    .dataframe tbody tr th {\n",
              "        vertical-align: top;\n",
              "    }\n",
              "\n",
              "    .dataframe thead th {\n",
              "        text-align: right;\n",
              "    }\n",
              "</style>\n",
              "<table border=\"1\" class=\"dataframe\">\n",
              "  <thead>\n",
              "    <tr style=\"text-align: right;\">\n",
              "      <th></th>\n",
              "      <th>msisdn</th>\n",
              "      <th>quotaname</th>\n",
              "      <th>quotavalue</th>\n",
              "      <th>quotainterval</th>\n",
              "      <th>balance</th>\n",
              "      <th>consumption</th>\n",
              "      <th>sum</th>\n",
              "      <th>status</th>\n",
              "    </tr>\n",
              "  </thead>\n",
              "  <tbody>\n",
              "    <tr>\n",
              "      <th>1048553</th>\n",
              "      <td>6X81XX9544XX</td>\n",
              "      <td>Q_VB_Post_Movie2</td>\n",
              "      <td>4194304</td>\n",
              "      <td>11</td>\n",
              "      <td>4194304</td>\n",
              "      <td>0</td>\n",
              "      <td>4194304</td>\n",
              "      <td>Normal</td>\n",
              "    </tr>\n",
              "    <tr>\n",
              "      <th>1048554</th>\n",
              "      <td>6X81XX9544XX</td>\n",
              "      <td>Q_VB4G_Post_Movie2</td>\n",
              "      <td>12582912</td>\n",
              "      <td>11</td>\n",
              "      <td>12582912</td>\n",
              "      <td>0</td>\n",
              "      <td>12582912</td>\n",
              "      <td>Normal</td>\n",
              "    </tr>\n",
              "    <tr>\n",
              "      <th>1048560</th>\n",
              "      <td>62812296XXXX</td>\n",
              "      <td>Q_VB_Post_Movie1</td>\n",
              "      <td>4194304</td>\n",
              "      <td>6</td>\n",
              "      <td>4194304</td>\n",
              "      <td>0</td>\n",
              "      <td>4194304</td>\n",
              "      <td>Normal</td>\n",
              "    </tr>\n",
              "    <tr>\n",
              "      <th>1048562</th>\n",
              "      <td>62812296XXXX</td>\n",
              "      <td>Q_VBDPI_Post_MyMovie1</td>\n",
              "      <td>16777216</td>\n",
              "      <td>6</td>\n",
              "      <td>16646912</td>\n",
              "      <td>130304</td>\n",
              "      <td>16646912</td>\n",
              "      <td>Normal</td>\n",
              "    </tr>\n",
              "    <tr>\n",
              "      <th>1048564</th>\n",
              "      <td>62812296XXXX</td>\n",
              "      <td>Q_VB4G_Post_Movie1</td>\n",
              "      <td>12582912</td>\n",
              "      <td>6</td>\n",
              "      <td>9506304</td>\n",
              "      <td>3076608</td>\n",
              "      <td>9506304</td>\n",
              "      <td>Normal</td>\n",
              "    </tr>\n",
              "  </tbody>\n",
              "</table>\n",
              "</div>"
            ],
            "text/plain": [
              "               msisdn              quotaname  ...       sum  status\n",
              "1048553  6X81XX9544XX       Q_VB_Post_Movie2  ...   4194304  Normal\n",
              "1048554  6X81XX9544XX     Q_VB4G_Post_Movie2  ...  12582912  Normal\n",
              "1048560  62812296XXXX       Q_VB_Post_Movie1  ...   4194304  Normal\n",
              "1048562  62812296XXXX  Q_VBDPI_Post_MyMovie1  ...  16646912  Normal\n",
              "1048564  62812296XXXX     Q_VB4G_Post_Movie1  ...   9506304  Normal\n",
              "\n",
              "[5 rows x 8 columns]"
            ]
          },
          "metadata": {
            "tags": []
          },
          "execution_count": 23
        }
      ]
    },
    {
      "cell_type": "code",
      "metadata": {
        "colab": {
          "base_uri": "https://localhost:8080/"
        },
        "id": "_qbS9NeBTJTo",
        "outputId": "9d3d9256-3b3e-4207-9bf7-e883cc1edad0"
      },
      "source": [
        "df.status.unique()"
      ],
      "execution_count": null,
      "outputs": [
        {
          "output_type": "execute_result",
          "data": {
            "text/plain": [
              "array(['Normal', 'Fraud'], dtype=object)"
            ]
          },
          "metadata": {
            "tags": []
          },
          "execution_count": 24
        }
      ]
    },
    {
      "cell_type": "markdown",
      "metadata": {
        "id": "TD9iACA6afmD"
      },
      "source": [
        "EDA"
      ]
    },
    {
      "cell_type": "code",
      "metadata": {
        "colab": {
          "base_uri": "https://localhost:8080/",
          "height": 551
        },
        "id": "fFIPzG5MTgw7",
        "outputId": "279ac019-79a4-4c12-e5e6-3b7ca0030946"
      },
      "source": [
        "sns.set_style('whitegrid')\n",
        "sns.lmplot('quotavalue','consumption',data=df, hue='status',\n",
        "           palette='coolwarm',size=6,aspect=1,fit_reg=False)"
      ],
      "execution_count": null,
      "outputs": [
        {
          "output_type": "stream",
          "text": [
            "/usr/local/lib/python3.6/dist-packages/seaborn/_decorators.py:43: FutureWarning: Pass the following variables as keyword args: x, y. From version 0.12, the only valid positional argument will be `data`, and passing other arguments without an explicit keyword will result in an error or misinterpretation.\n",
            "  FutureWarning\n",
            "/usr/local/lib/python3.6/dist-packages/seaborn/regression.py:580: UserWarning: The `size` parameter has been renamed to `height`; please update your code.\n",
            "  warnings.warn(msg, UserWarning)\n"
          ],
          "name": "stderr"
        },
        {
          "output_type": "execute_result",
          "data": {
            "text/plain": [
              "<seaborn.axisgrid.FacetGrid at 0x7fea33b96cf8>"
            ]
          },
          "metadata": {
            "tags": []
          },
          "execution_count": 25
        },
        {
          "output_type": "display_data",
          "data": {
            "image/png": "[encoded data removed]",
            "text/plain": [
              "<Figure size 504.125x432 with 1 Axes>"
            ]
          },
          "metadata": {
            "tags": []
          }
        }
      ]
    },
    {
      "cell_type": "code",
      "metadata": {
        "colab": {
          "base_uri": "https://localhost:8080/",
          "height": 551
        },
        "id": "FkJXDTf1Tjq8",
        "outputId": "5a43f805-1157-4adf-c995-37180b5bdae3"
      },
      "source": [
        "sns.set_style('whitegrid')\n",
        "sns.lmplot('quotavalue','balance',data=df, hue='status',\n",
        "           palette='coolwarm',size=6,aspect=1,fit_reg=False)"
      ],
      "execution_count": null,
      "outputs": [
        {
          "output_type": "stream",
          "text": [
            "/usr/local/lib/python3.6/dist-packages/seaborn/_decorators.py:43: FutureWarning: Pass the following variables as keyword args: x, y. From version 0.12, the only valid positional argument will be `data`, and passing other arguments without an explicit keyword will result in an error or misinterpretation.\n",
            "  FutureWarning\n",
            "/usr/local/lib/python3.6/dist-packages/seaborn/regression.py:580: UserWarning: The `size` parameter has been renamed to `height`; please update your code.\n",
            "  warnings.warn(msg, UserWarning)\n"
          ],
          "name": "stderr"
        },
        {
          "output_type": "execute_result",
          "data": {
            "text/plain": [
              "<seaborn.axisgrid.FacetGrid at 0x7fea33b96128>"
            ]
          },
          "metadata": {
            "tags": []
          },
          "execution_count": 26
        },
        {
          "output_type": "display_data",
          "data": {
            "image/png": "[encoded data removed]",
            "text/plain": [
              "<Figure size 504.125x432 with 1 Axes>"
            ]
          },
          "metadata": {
            "tags": []
          }
        }
      ]
    },
    {
      "cell_type": "code",
      "metadata": {
        "colab": {
          "base_uri": "https://localhost:8080/",
          "height": 551
        },
        "id": "hED4TDSuTlHe",
        "outputId": "b914c95d-2777-4c5a-ecbd-47cf93ce3631"
      },
      "source": [
        "sns.set_style('whitegrid')\n",
        "sns.lmplot('quotavalue','sum',data=df, hue='status',\n",
        "           palette='coolwarm',size=6,aspect=1,fit_reg=False)"
      ],
      "execution_count": null,
      "outputs": [
        {
          "output_type": "stream",
          "text": [
            "/usr/local/lib/python3.6/dist-packages/seaborn/_decorators.py:43: FutureWarning: Pass the following variables as keyword args: x, y. From version 0.12, the only valid positional argument will be `data`, and passing other arguments without an explicit keyword will result in an error or misinterpretation.\n",
            "  FutureWarning\n",
            "/usr/local/lib/python3.6/dist-packages/seaborn/regression.py:580: UserWarning: The `size` parameter has been renamed to `height`; please update your code.\n",
            "  warnings.warn(msg, UserWarning)\n"
          ],
          "name": "stderr"
        },
        {
          "output_type": "execute_result",
          "data": {
            "text/plain": [
              "<seaborn.axisgrid.FacetGrid at 0x7fea29d80860>"
            ]
          },
          "metadata": {
            "tags": []
          },
          "execution_count": 27
        },
        {
          "output_type": "display_data",
          "data": {
            "image/png": "[encoded data removed]",
            "text/plain": [
              "<Figure size 504.125x432 with 1 Axes>"
            ]
          },
          "metadata": {
            "tags": []
          }
        }
      ]
    },
    {
      "cell_type": "code",
      "metadata": {
        "colab": {
          "base_uri": "https://localhost:8080/",
          "height": 551
        },
        "id": "I-DTzq3xTpFx",
        "outputId": "bd7d48ab-13e2-49d7-de91-9172dc8a0eba"
      },
      "source": [
        "sns.set_style('whitegrid')\n",
        "sns.lmplot('balance','sum',data=df, hue='status',\n",
        "           palette='coolwarm',size=6,aspect=1,fit_reg=False)"
      ],
      "execution_count": null,
      "outputs": [
        {
          "output_type": "stream",
          "text": [
            "/usr/local/lib/python3.6/dist-packages/seaborn/_decorators.py:43: FutureWarning: Pass the following variables as keyword args: x, y. From version 0.12, the only valid positional argument will be `data`, and passing other arguments without an explicit keyword will result in an error or misinterpretation.\n",
            "  FutureWarning\n",
            "/usr/local/lib/python3.6/dist-packages/seaborn/regression.py:580: UserWarning: The `size` parameter has been renamed to `height`; please update your code.\n",
            "  warnings.warn(msg, UserWarning)\n"
          ],
          "name": "stderr"
        },
        {
          "output_type": "execute_result",
          "data": {
            "text/plain": [
              "<seaborn.axisgrid.FacetGrid at 0x7fea29ce3278>"
            ]
          },
          "metadata": {
            "tags": []
          },
          "execution_count": 28
        },
        {
          "output_type": "display_data",
          "data": {
            "image/png": "[encoded data removed]",
            "text/plain": [
              "<Figure size 504.125x432 with 1 Axes>"
            ]
          },
          "metadata": {
            "tags": []
          }
        }
      ]
    },
    {
      "cell_type": "code",
      "metadata": {
        "colab": {
          "base_uri": "https://localhost:8080/",
          "height": 551
        },
        "id": "iHmcqpimTqeL",
        "outputId": "b6146880-4eb1-4603-8c7e-29ad6c1f79b2"
      },
      "source": [
        "sns.set_style('whitegrid')\n",
        "sns.lmplot('sum','consumption',data=df, hue='status',\n",
        "           palette='coolwarm',size=6,aspect=1,fit_reg=False)"
      ],
      "execution_count": null,
      "outputs": [
        {
          "output_type": "stream",
          "text": [
            "/usr/local/lib/python3.6/dist-packages/seaborn/_decorators.py:43: FutureWarning: Pass the following variables as keyword args: x, y. From version 0.12, the only valid positional argument will be `data`, and passing other arguments without an explicit keyword will result in an error or misinterpretation.\n",
            "  FutureWarning\n",
            "/usr/local/lib/python3.6/dist-packages/seaborn/regression.py:580: UserWarning: The `size` parameter has been renamed to `height`; please update your code.\n",
            "  warnings.warn(msg, UserWarning)\n"
          ],
          "name": "stderr"
        },
        {
          "output_type": "execute_result",
          "data": {
            "text/plain": [
              "<seaborn.axisgrid.FacetGrid at 0x7fea29c66fd0>"
            ]
          },
          "metadata": {
            "tags": []
          },
          "execution_count": 29
        },
        {
          "output_type": "display_data",
          "data": {
            "image/png": "[encoded data removed]",
            "text/plain": [
              "<Figure size 504.125x432 with 1 Axes>"
            ]
          },
          "metadata": {
            "tags": []
          }
        }
      ]
    },
    {
      "cell_type": "code",
      "metadata": {
        "colab": {
          "base_uri": "https://localhost:8080/",
          "height": 476
        },
        "id": "fL9fjgXqTr_J",
        "outputId": "2c881796-852a-4eba-a4d3-6c3953a3033d"
      },
      "source": [
        "sns.set_style('darkgrid')\n",
        "g = sns.FacetGrid(df,hue=\"status\",palette='coolwarm',size=6,aspect=2)\n",
        "g = g.map(plt.hist,'balance',bins=20,alpha=0.7)"
      ],
      "execution_count": null,
      "outputs": [
        {
          "output_type": "stream",
          "text": [
            "/usr/local/lib/python3.6/dist-packages/seaborn/axisgrid.py:316: UserWarning: The `size` parameter has been renamed to `height`; please update your code.\n",
            "  warnings.warn(msg, UserWarning)\n"
          ],
          "name": "stderr"
        },
        {
          "output_type": "display_data",
          "data": {
            "image/png": "[encoded data removed]",
            "text/plain": [
              "<Figure size 864x432 with 1 Axes>"
            ]
          },
          "metadata": {
            "tags": []
          }
        }
      ]
    },
    {
      "cell_type": "code",
      "metadata": {
        "colab": {
          "base_uri": "https://localhost:8080/",
          "height": 764
        },
        "id": "fcHZb1EpTuBD",
        "outputId": "fa2f61d8-016b-4562-8d16-864c353f724d"
      },
      "source": [
        "sns.set_style('darkgrid')\n",
        "g = sns.FacetGrid(df,hue=\"status\",palette='coolwarm',size=10,aspect=2)\n",
        "g = g.map(plt.hist,'quotavalue',bins=20,alpha=0.7)"
      ],
      "execution_count": null,
      "outputs": [
        {
          "output_type": "stream",
          "text": [
            "/usr/local/lib/python3.6/dist-packages/seaborn/axisgrid.py:316: UserWarning: The `size` parameter has been renamed to `height`; please update your code.\n",
            "  warnings.warn(msg, UserWarning)\n"
          ],
          "name": "stderr"
        },
        {
          "output_type": "display_data",
          "data": {
            "image/png": "[encoded data removed]",
            "text/plain": [
              "<Figure size 1440x720 with 1 Axes>"
            ]
          },
          "metadata": {
            "tags": []
          }
        }
      ]
    },
    {
      "cell_type": "code",
      "metadata": {
        "colab": {
          "base_uri": "https://localhost:8080/",
          "height": 764
        },
        "id": "OJDu2IGbTvpQ",
        "outputId": "bcc3afa2-9137-4385-a28c-04067409a6f0"
      },
      "source": [
        "sns.set_style('darkgrid')\n",
        "g = sns.FacetGrid(df,hue=\"status\",palette='coolwarm',size=10,aspect=2)\n",
        "g = g.map(plt.hist,'consumption',bins=20,alpha=0.7)"
      ],
      "execution_count": null,
      "outputs": [
        {
          "output_type": "stream",
          "text": [
            "/usr/local/lib/python3.6/dist-packages/seaborn/axisgrid.py:316: UserWarning: The `size` parameter has been renamed to `height`; please update your code.\n",
            "  warnings.warn(msg, UserWarning)\n"
          ],
          "name": "stderr"
        },
        {
          "output_type": "display_data",
          "data": {
            "image/png": "[encoded data removed]",
            "text/plain": [
              "<Figure size 1440x720 with 1 Axes>"
            ]
          },
          "metadata": {
            "tags": []
          }
        }
      ]
    },
    {
      "cell_type": "code",
      "metadata": {
        "colab": {
          "base_uri": "https://localhost:8080/",
          "height": 764
        },
        "id": "4A1aW9_ZTxR5",
        "outputId": "1f59bf4b-8778-4348-d4d6-711b294dc5ff"
      },
      "source": [
        "sns.set_style('darkgrid')\n",
        "g = sns.FacetGrid(df,hue=\"status\",palette='coolwarm',size=10,aspect=2)\n",
        "g = g.map(plt.hist,'sum',bins=20,alpha=0.7)"
      ],
      "execution_count": null,
      "outputs": [
        {
          "output_type": "stream",
          "text": [
            "/usr/local/lib/python3.6/dist-packages/seaborn/axisgrid.py:316: UserWarning: The `size` parameter has been renamed to `height`; please update your code.\n",
            "  warnings.warn(msg, UserWarning)\n"
          ],
          "name": "stderr"
        },
        {
          "output_type": "display_data",
          "data": {
            "image/png": "[encoded data removed]",
            "text/plain": [
              "<Figure size 1440x720 with 1 Axes>"
            ]
          },
          "metadata": {
            "tags": []
          }
        }
      ]
    },
    {
      "cell_type": "markdown",
      "metadata": {
        "id": "o20FueMeakkJ"
      },
      "source": [
        "K-Means Cluster"
      ]
    },
    {
      "cell_type": "code",
      "metadata": {
        "colab": {
          "base_uri": "https://localhost:8080/"
        },
        "id": "nfBnPvcSVXhR",
        "outputId": "0dc17575-41d3-4d42-b766-4b8671c78dee"
      },
      "source": [
        "!pip3 install KMeans"
      ],
      "execution_count": null,
      "outputs": [
        {
          "output_type": "stream",
          "text": [
            "Collecting KMeans\n",
            "  Downloading https://files.pythonhosted.org/packages/d1/7e/87d12a99d7ccfd2c85b19899012177e1718c2d6c0148fad421523160e84b/kmeans-1.0.2.tar.gz\n",
            "Building wheels for collected packages: KMeans\n",
            "  Building wheel for KMeans (setup.py) ... \u001b[?25l\u001b[?25hdone\n",
            "  Created wheel for KMeans: filename=kmeans-1.0.2-cp36-cp36m-linux_x86_64.whl size=11759 sha256=94f857852ba4b5174b4fa9c606564292f076cb5f25f1d62bef292b2ff0e50608\n",
            "  Stored in directory: /root/.cache/pip/wheels/10/05/77/2735fd2f7a0b4d86cb7a83be2a56807cf706d5d27f742c6482\n",
            "Successfully built KMeans\n",
            "Installing collected packages: KMeans\n",
            "Successfully installed KMeans-1.0.2\n"
          ],
          "name": "stdout"
        }
      ]
    },
    {
      "cell_type": "code",
      "metadata": {
        "id": "4WXB0ky9T6Vg"
      },
      "source": [
        "from sklearn.cluster import KMeans"
      ],
      "execution_count": null,
      "outputs": []
    },
    {
      "cell_type": "code",
      "metadata": {
        "id": "1ckE1ZVUUHxT"
      },
      "source": [
        "means = KMeans(n_clusters=2)"
      ],
      "execution_count": null,
      "outputs": []
    },
    {
      "cell_type": "code",
      "metadata": {
        "id": "b_ffQktoGsX5"
      },
      "source": [
        "#silhouette score kmeans"
      ],
      "execution_count": null,
      "outputs": []
    },
    {
      "cell_type": "code",
      "metadata": {
        "id": "iEmd17PwUJMM"
      },
      "source": [
        "df_coba = df.drop(['msisdn'], axis=1, inplace=True)\n",
        "df_coba = df.drop(['quotaname'], axis=1, inplace=True)"
      ],
      "execution_count": null,
      "outputs": []
    },
    {
      "cell_type": "code",
      "metadata": {
        "colab": {
          "base_uri": "https://localhost:8080/",
          "height": 194
        },
        "id": "cryuUovSUMwK",
        "outputId": "6c741c44-f906-4ecc-9190-aac9bc5cc80c"
      },
      "source": [
        "df.head()"
      ],
      "execution_count": null,
      "outputs": [
        {
          "output_type": "execute_result",
          "data": {
            "text/html": [
              "<div>\n",
              "<style scoped>\n",
              "    .dataframe tbody tr th:only-of-type {\n",
              "        vertical-align: middle;\n",
              "    }\n",
              "\n",
              "    .dataframe tbody tr th {\n",
              "        vertical-align: top;\n",
              "    }\n",
              "\n",
              "    .dataframe thead th {\n",
              "        text-align: right;\n",
              "    }\n",
              "</style>\n",
              "<table border=\"1\" class=\"dataframe\">\n",
              "  <thead>\n",
              "    <tr style=\"text-align: right;\">\n",
              "      <th></th>\n",
              "      <th>quotavalue</th>\n",
              "      <th>quotainterval</th>\n",
              "      <th>balance</th>\n",
              "      <th>consumption</th>\n",
              "      <th>sum</th>\n",
              "      <th>status</th>\n",
              "    </tr>\n",
              "  </thead>\n",
              "  <tbody>\n",
              "    <tr>\n",
              "      <th>1</th>\n",
              "      <td>26214400</td>\n",
              "      <td>20</td>\n",
              "      <td>25809408</td>\n",
              "      <td>404992</td>\n",
              "      <td>25809408</td>\n",
              "      <td>Normal</td>\n",
              "    </tr>\n",
              "    <tr>\n",
              "      <th>2</th>\n",
              "      <td>26214400</td>\n",
              "      <td>20</td>\n",
              "      <td>26210688</td>\n",
              "      <td>3712</td>\n",
              "      <td>26210688</td>\n",
              "      <td>Normal</td>\n",
              "    </tr>\n",
              "    <tr>\n",
              "      <th>5</th>\n",
              "      <td>10485760</td>\n",
              "      <td>20</td>\n",
              "      <td>10485760</td>\n",
              "      <td>0</td>\n",
              "      <td>10485760</td>\n",
              "      <td>Normal</td>\n",
              "    </tr>\n",
              "    <tr>\n",
              "      <th>7</th>\n",
              "      <td>8388608</td>\n",
              "      <td>20</td>\n",
              "      <td>8388608</td>\n",
              "      <td>0</td>\n",
              "      <td>8388608</td>\n",
              "      <td>Normal</td>\n",
              "    </tr>\n",
              "    <tr>\n",
              "      <th>8</th>\n",
              "      <td>2097152</td>\n",
              "      <td>20</td>\n",
              "      <td>2097152</td>\n",
              "      <td>0</td>\n",
              "      <td>2097152</td>\n",
              "      <td>Normal</td>\n",
              "    </tr>\n",
              "  </tbody>\n",
              "</table>\n",
              "</div>"
            ],
            "text/plain": [
              "   quotavalue  quotainterval   balance  consumption       sum  status\n",
              "1    26214400             20  25809408       404992  25809408  Normal\n",
              "2    26214400             20  26210688         3712  26210688  Normal\n",
              "5    10485760             20  10485760            0  10485760  Normal\n",
              "7     8388608             20   8388608            0   8388608  Normal\n",
              "8     2097152             20   2097152            0   2097152  Normal"
            ]
          },
          "metadata": {
            "tags": []
          },
          "execution_count": 39
        }
      ]
    },
    {
      "cell_type": "code",
      "metadata": {
        "colab": {
          "base_uri": "https://localhost:8080/"
        },
        "id": "bFnrYuG_UOMF",
        "outputId": "541c3404-d578-4e07-ef89-a56de6314fa4"
      },
      "source": [
        "means.fit(df.drop('status',axis=1))"
      ],
      "execution_count": null,
      "outputs": [
        {
          "output_type": "execute_result",
          "data": {
            "text/plain": [
              "KMeans(algorithm='auto', copy_x=True, init='k-means++', max_iter=300,\n",
              "       n_clusters=2, n_init=10, n_jobs=None, precompute_distances='auto',\n",
              "       random_state=None, tol=0.0001, verbose=0)"
            ]
          },
          "metadata": {
            "tags": []
          },
          "execution_count": 40
        }
      ]
    },
    {
      "cell_type": "code",
      "metadata": {
        "colab": {
          "base_uri": "https://localhost:8080/"
        },
        "id": "4OymHkA-UP_K",
        "outputId": "19588ae1-796a-4c1d-fd24-1bde33d30981"
      },
      "source": [
        "means.cluster_centers_"
      ],
      "execution_count": null,
      "outputs": [
        {
          "output_type": "execute_result",
          "data": {
            "text/plain": [
              "array([[6.13287528e+06, 1.07304087e+01, 4.43124528e+06, 1.65861509e+06,\n",
              "        4.47426019e+06],\n",
              "       [2.52025377e+07, 1.05115441e+01, 2.37051898e+07, 1.44691586e+06,\n",
              "        2.37556219e+07]])"
            ]
          },
          "metadata": {
            "tags": []
          },
          "execution_count": 41
        }
      ]
    },
    {
      "cell_type": "code",
      "metadata": {
        "colab": {
          "base_uri": "https://localhost:8080/"
        },
        "id": "bfPgn7IbV-QB",
        "outputId": "2e0de60f-caf7-4b8e-cc82-6fefa57d6756"
      },
      "source": [
        "(means.labels_)"
      ],
      "execution_count": null,
      "outputs": [
        {
          "output_type": "execute_result",
          "data": {
            "text/plain": [
              "array([1, 1, 0, ..., 0, 1, 0], dtype=int32)"
            ]
          },
          "metadata": {
            "tags": []
          },
          "execution_count": 42
        }
      ]
    },
    {
      "cell_type": "markdown",
      "metadata": {
        "id": "qRMTZ26oaqDY"
      },
      "source": [
        "Evaluation"
      ]
    },
    {
      "cell_type": "code",
      "metadata": {
        "id": "yFnUSb9iWBmS"
      },
      "source": [
        "def converter(cluster):\n",
        "    if cluster=='Fraud':\n",
        "        return 1\n",
        "    else:\n",
        "        return 0"
      ],
      "execution_count": null,
      "outputs": []
    },
    {
      "cell_type": "code",
      "metadata": {
        "id": "-EIreL1dWHJ-"
      },
      "source": [
        "df['Cluster'] = df['status'].apply(converter)"
      ],
      "execution_count": null,
      "outputs": []
    },
    {
      "cell_type": "code",
      "metadata": {
        "colab": {
          "base_uri": "https://localhost:8080/",
          "height": 340
        },
        "id": "Wrq7eXLcWI0Z",
        "outputId": "817d1c3e-08a6-406c-9657-99db1be885d1"
      },
      "source": [
        "df.sample(n=10)"
      ],
      "execution_count": null,
      "outputs": [
        {
          "output_type": "execute_result",
          "data": {
            "text/html": [
              "<div>\n",
              "<style scoped>\n",
              "    .dataframe tbody tr th:only-of-type {\n",
              "        vertical-align: middle;\n",
              "    }\n",
              "\n",
              "    .dataframe tbody tr th {\n",
              "        vertical-align: top;\n",
              "    }\n",
              "\n",
              "    .dataframe thead th {\n",
              "        text-align: right;\n",
              "    }\n",
              "</style>\n",
              "<table border=\"1\" class=\"dataframe\">\n",
              "  <thead>\n",
              "    <tr style=\"text-align: right;\">\n",
              "      <th></th>\n",
              "      <th>quotavalue</th>\n",
              "      <th>quotainterval</th>\n",
              "      <th>balance</th>\n",
              "      <th>consumption</th>\n",
              "      <th>sum</th>\n",
              "      <th>status</th>\n",
              "      <th>Cluster</th>\n",
              "    </tr>\n",
              "  </thead>\n",
              "  <tbody>\n",
              "    <tr>\n",
              "      <th>954827</th>\n",
              "      <td>153600</td>\n",
              "      <td>20</td>\n",
              "      <td>152944</td>\n",
              "      <td>656</td>\n",
              "      <td>152944</td>\n",
              "      <td>Normal</td>\n",
              "      <td>0</td>\n",
              "    </tr>\n",
              "    <tr>\n",
              "      <th>19883</th>\n",
              "      <td>36700160</td>\n",
              "      <td>11</td>\n",
              "      <td>36609664</td>\n",
              "      <td>90496</td>\n",
              "      <td>36609664</td>\n",
              "      <td>Normal</td>\n",
              "      <td>0</td>\n",
              "    </tr>\n",
              "    <tr>\n",
              "      <th>879422</th>\n",
              "      <td>2097152</td>\n",
              "      <td>6</td>\n",
              "      <td>2097152</td>\n",
              "      <td>0</td>\n",
              "      <td>2097152</td>\n",
              "      <td>Normal</td>\n",
              "      <td>0</td>\n",
              "    </tr>\n",
              "    <tr>\n",
              "      <th>722186</th>\n",
              "      <td>10485760</td>\n",
              "      <td>11</td>\n",
              "      <td>10324992</td>\n",
              "      <td>160768</td>\n",
              "      <td>10324992</td>\n",
              "      <td>Normal</td>\n",
              "      <td>0</td>\n",
              "    </tr>\n",
              "    <tr>\n",
              "      <th>427608</th>\n",
              "      <td>10485760</td>\n",
              "      <td>1</td>\n",
              "      <td>5661568</td>\n",
              "      <td>4824192</td>\n",
              "      <td>5661568</td>\n",
              "      <td>Normal</td>\n",
              "      <td>0</td>\n",
              "    </tr>\n",
              "    <tr>\n",
              "      <th>692251</th>\n",
              "      <td>10485760</td>\n",
              "      <td>11</td>\n",
              "      <td>5081404</td>\n",
              "      <td>5404356</td>\n",
              "      <td>5081404</td>\n",
              "      <td>Normal</td>\n",
              "      <td>0</td>\n",
              "    </tr>\n",
              "    <tr>\n",
              "      <th>820595</th>\n",
              "      <td>3145728</td>\n",
              "      <td>1</td>\n",
              "      <td>2684179</td>\n",
              "      <td>461549</td>\n",
              "      <td>2684179</td>\n",
              "      <td>Normal</td>\n",
              "      <td>0</td>\n",
              "    </tr>\n",
              "    <tr>\n",
              "      <th>45851</th>\n",
              "      <td>1048576</td>\n",
              "      <td>11</td>\n",
              "      <td>792677</td>\n",
              "      <td>255899</td>\n",
              "      <td>792677</td>\n",
              "      <td>Normal</td>\n",
              "      <td>0</td>\n",
              "    </tr>\n",
              "    <tr>\n",
              "      <th>107390</th>\n",
              "      <td>16777216</td>\n",
              "      <td>20</td>\n",
              "      <td>15243904</td>\n",
              "      <td>1533312</td>\n",
              "      <td>15243904</td>\n",
              "      <td>Normal</td>\n",
              "      <td>0</td>\n",
              "    </tr>\n",
              "    <tr>\n",
              "      <th>49607</th>\n",
              "      <td>10485760</td>\n",
              "      <td>1</td>\n",
              "      <td>10137472</td>\n",
              "      <td>348288</td>\n",
              "      <td>10137472</td>\n",
              "      <td>Normal</td>\n",
              "      <td>0</td>\n",
              "    </tr>\n",
              "  </tbody>\n",
              "</table>\n",
              "</div>"
            ],
            "text/plain": [
              "        quotavalue  quotainterval   balance  ...       sum  status Cluster\n",
              "954827      153600             20    152944  ...    152944  Normal       0\n",
              "19883     36700160             11  36609664  ...  36609664  Normal       0\n",
              "879422     2097152              6   2097152  ...   2097152  Normal       0\n",
              "722186    10485760             11  10324992  ...  10324992  Normal       0\n",
              "427608    10485760              1   5661568  ...   5661568  Normal       0\n",
              "692251    10485760             11   5081404  ...   5081404  Normal       0\n",
              "820595     3145728              1   2684179  ...   2684179  Normal       0\n",
              "45851      1048576             11    792677  ...    792677  Normal       0\n",
              "107390    16777216             20  15243904  ...  15243904  Normal       0\n",
              "49607     10485760              1  10137472  ...  10137472  Normal       0\n",
              "\n",
              "[10 rows x 7 columns]"
            ]
          },
          "metadata": {
            "tags": []
          },
          "execution_count": 45
        }
      ]
    },
    {
      "cell_type": "code",
      "metadata": {
        "colab": {
          "base_uri": "https://localhost:8080/"
        },
        "id": "HWZw-RUfWMC_",
        "outputId": "c8b3b87f-f2fb-4615-d4a4-c346931d18c7"
      },
      "source": [
        "from sklearn.metrics import confusion_matrix,classification_report\n",
        "print(confusion_matrix(df['Cluster'],means.labels_))\n",
        "print(classification_report(df['Cluster'],means.labels_))"
      ],
      "execution_count": null,
      "outputs": [
        {
          "output_type": "stream",
          "text": [
            "[[210506  58876]\n",
            " [ 32730    229]]\n",
            "              precision    recall  f1-score   support\n",
            "\n",
            "           0       0.87      0.78      0.82    269382\n",
            "           1       0.00      0.01      0.00     32959\n",
            "\n",
            "    accuracy                           0.70    302341\n",
            "   macro avg       0.43      0.39      0.41    302341\n",
            "weighted avg       0.77      0.70      0.73    302341\n",
            "\n"
          ],
          "name": "stdout"
        }
      ]
    },
    {
      "cell_type": "markdown",
      "metadata": {
        "id": "40q8g5pNFnrW"
      },
      "source": [
        "Silhouette Analysis"
      ]
    },
    {
      "cell_type": "code",
      "metadata": {
        "id": "WynShZVdrCKA",
        "colab": {
          "base_uri": "https://localhost:8080/",
          "height": 820
        },
        "outputId": "53f22d0a-db2d-46c2-fd68-148526cf691c"
      },
      "source": [
        "from sklearn.datasets import make_blobs\n",
        "from sklearn.metrics import silhouette_samples, silhouette_score\n",
        "\n",
        "import matplotlib.pyplot as plt\n",
        "import matplotlib.cm as cm\n",
        "\n",
        "\n",
        "print(__doc__)\n",
        "\n",
        "# Generating the sample data from make_blobs\n",
        "# This particular setting has one distinct cluster and 3 clusters placed close\n",
        "# together.\n",
        "\n",
        "\n",
        "range_n_clusters = [2, 3, 4, 5]\n",
        "\n",
        "for n_clusters in range_n_clusters:\n",
        "    # Create a subplot with 1 row and 2 columns\n",
        "    fig, (ax1, ax2) = plt.subplots(1, 2)\n",
        "    fig.set_size_inches(18, 7)\n",
        "\n",
        "    # The 1st subplot is the silhouette plot\n",
        "    # The silhouette coefficient can range from -1, 1 but in this example all\n",
        "    # lie within [-0.1, 1]\n",
        "    ax1.set_xlim([-0.1, 1])\n",
        "    # The (n_clusters+1)*10 is for inserting blank space between silhouette\n",
        "    # plots of individual clusters, to demarcate them clearly.\n",
        "    ax1.set_ylim([0, len(df.drop('status',axis=1)) + (n_clusters + 1) * 10])\n",
        "\n",
        "    # Initialize the clusterer with n_clusters value and a random generator\n",
        "    # seed of 10 for reproducibility.\n",
        "    clusterer = KMeans(n_clusters=n_clusters, random_state=10)\n",
        "    cluster_labels = clusterer.fit_predict(df.drop('status',axis=1))\n",
        "\n",
        "    # The silhouette_score gives the average value for all the samples.\n",
        "    # This gives a perspective into the density and separation of the formed\n",
        "    # clusters\n",
        "    silhouette_avg = silhouette_score(df.drop('status',axis=1), cluster_labels)\n",
        "    print(\"For n_clusters =\", n_clusters,\n",
        "          \"The average silhouette_score is :\", silhouette_avg)\n",
        "\n",
        "    # Compute the silhouette scores for each sample\n",
        "    sample_silhouette_values = silhouette_samples(df.drop('status',axis=1), cluster_labels)\n",
        "\n",
        "    y_lower = 10\n",
        "    for i in range(n_clusters):\n",
        "        # Aggregate the silhouette scores for samples belonging to\n",
        "        # cluster i, and sort them\n",
        "        ith_cluster_silhouette_values = \\\n",
        "            sample_silhouette_values[cluster_labels == i]\n",
        "\n",
        "        ith_cluster_silhouette_values.sort()\n",
        "\n",
        "        size_cluster_i = ith_cluster_silhouette_values.shape[0]\n",
        "        y_upper = y_lower + size_cluster_i\n",
        "\n",
        "        color = cm.nipy_spectral(float(i) / n_clusters)\n",
        "        ax1.fill_betweenx(np.arange(y_lower, y_upper),\n",
        "                          0, ith_cluster_silhouette_values,\n",
        "                          facecolor=color, edgecolor=color, alpha=0.7)\n",
        "\n",
        "        # Label the silhouette plots with their cluster numbers at the middle\n",
        "        ax1.text(-0.05, y_lower + 0.5 * size_cluster_i, str(i))\n",
        "\n",
        "        # Compute the new y_lower for next plot\n",
        "        y_lower = y_upper + 10  # 10 for the 0 samples\n",
        "\n",
        "    ax1.set_title(\"The silhouette plot for the various clusters.\")\n",
        "    ax1.set_xlabel(\"The silhouette coefficient values\")\n",
        "    ax1.set_ylabel(\"Cluster label\")\n",
        "\n",
        "    # The vertical line for average silhouette score of all the values\n",
        "    ax1.axvline(x=silhouette_avg, color=\"red\", linestyle=\"--\")\n",
        "\n",
        "    ax1.set_yticks([])  # Clear the yaxis labels / ticks\n",
        "    ax1.set_xticks([-0.1, 0, 0.2, 0.4, 0.6, 0.8, 1])\n",
        "\n",
        "    dz = df.drop('status',axis=1)\n",
        "    # 2nd Plot showing the actual clusters formed\n",
        "    colors = cm.nipy_spectral(cluster_labels.astype(float) / n_clusters)\n",
        "    ax2.scatter(dz.iloc[:, 0], dz.iloc[:, 1], marker='.', s=30, lw=0, alpha=0.7,\n",
        "                c=colors, edgecolor='k')\n",
        "\n",
        "    # Labeling the clusters\n",
        "    centers = clusterer.cluster_centers_\n",
        "    # Draw white circles at cluster centers\n",
        "    ax2.scatter(centers[:, 0], centers[:, 1], marker='o',\n",
        "                c=\"white\", alpha=1, s=200, edgecolor='k')\n",
        "\n",
        "    for i, c in enumerate(centers):\n",
        "        ax2.scatter(c[0], c[1], marker='$%d$' % i, alpha=1,\n",
        "                    s=50, edgecolor='k')\n",
        "\n",
        "    ax2.set_title(\"The visualization of the clustered data.\")\n",
        "    ax2.set_xlabel(\"Feature space for the 1st feature\")\n",
        "    ax2.set_ylabel(\"Feature space for the 2nd feature\")\n",
        "\n",
        "    plt.suptitle((\"Silhouette analysis for KMeans clustering on sample data \"\n",
        "                  \"with n_clusters = %d\" % n_clusters),\n",
        "                 fontsize=14, fontweight='bold')\n",
        "\n",
        "plt.show()"
      ],
      "execution_count": null,
      "outputs": [
        {
          "output_type": "stream",
          "text": [
            "Automatically created module for IPython interactive environment\n"
          ],
          "name": "stdout"
        },
        {
          "output_type": "error",
          "ename": "KeyboardInterrupt",
          "evalue": "ignored",
          "traceback": [
            "\u001b[0;31m---------------------------------------------------------------------------\u001b[0m",
            "\u001b[0;31mKeyboardInterrupt\u001b[0m                         Traceback (most recent call last)",
            "\u001b[0;32m<ipython-input-47-e6813d44626d>\u001b[0m in \u001b[0;36m<module>\u001b[0;34m()\u001b[0m\n\u001b[1;32m     36\u001b[0m     \u001b[0;31m# This gives a perspective into the density and separation of the formed\u001b[0m\u001b[0;34m\u001b[0m\u001b[0;34m\u001b[0m\u001b[0;34m\u001b[0m\u001b[0m\n\u001b[1;32m     37\u001b[0m     \u001b[0;31m# clusters\u001b[0m\u001b[0;34m\u001b[0m\u001b[0;34m\u001b[0m\u001b[0;34m\u001b[0m\u001b[0m\n\u001b[0;32m---> 38\u001b[0;31m     \u001b[0msilhouette_avg\u001b[0m \u001b[0;34m=\u001b[0m \u001b[0msilhouette_score\u001b[0m\u001b[0;34m(\u001b[0m\u001b[0mdf\u001b[0m\u001b[0;34m.\u001b[0m\u001b[0mdrop\u001b[0m\u001b[0;34m(\u001b[0m\u001b[0;34m'status'\u001b[0m\u001b[0;34m,\u001b[0m\u001b[0maxis\u001b[0m\u001b[0;34m=\u001b[0m\u001b[0;36m1\u001b[0m\u001b[0;34m)\u001b[0m\u001b[0;34m,\u001b[0m \u001b[0mcluster_labels\u001b[0m\u001b[0;34m)\u001b[0m\u001b[0;34m\u001b[0m\u001b[0;34m\u001b[0m\u001b[0m\n\u001b[0m\u001b[1;32m     39\u001b[0m     print(\"For n_clusters =\", n_clusters,\n\u001b[1;32m     40\u001b[0m           \"The average silhouette_score is :\", silhouette_avg)\n",
            "\u001b[0;32m/usr/local/lib/python3.6/dist-packages/sklearn/metrics/cluster/_unsupervised.py\u001b[0m in \u001b[0;36msilhouette_score\u001b[0;34m(X, labels, metric, sample_size, random_state, **kwds)\u001b[0m\n\u001b[1;32m    115\u001b[0m         \u001b[0;32melse\u001b[0m\u001b[0;34m:\u001b[0m\u001b[0;34m\u001b[0m\u001b[0;34m\u001b[0m\u001b[0m\n\u001b[1;32m    116\u001b[0m             \u001b[0mX\u001b[0m\u001b[0;34m,\u001b[0m \u001b[0mlabels\u001b[0m \u001b[0;34m=\u001b[0m \u001b[0mX\u001b[0m\u001b[0;34m[\u001b[0m\u001b[0mindices\u001b[0m\u001b[0;34m]\u001b[0m\u001b[0;34m,\u001b[0m \u001b[0mlabels\u001b[0m\u001b[0;34m[\u001b[0m\u001b[0mindices\u001b[0m\u001b[0;34m]\u001b[0m\u001b[0;34m\u001b[0m\u001b[0;34m\u001b[0m\u001b[0m\n\u001b[0;32m--> 117\u001b[0;31m     \u001b[0;32mreturn\u001b[0m \u001b[0mnp\u001b[0m\u001b[0;34m.\u001b[0m\u001b[0mmean\u001b[0m\u001b[0;34m(\u001b[0m\u001b[0msilhouette_samples\u001b[0m\u001b[0;34m(\u001b[0m\u001b[0mX\u001b[0m\u001b[0;34m,\u001b[0m \u001b[0mlabels\u001b[0m\u001b[0;34m,\u001b[0m \u001b[0mmetric\u001b[0m\u001b[0;34m=\u001b[0m\u001b[0mmetric\u001b[0m\u001b[0;34m,\u001b[0m \u001b[0;34m**\u001b[0m\u001b[0mkwds\u001b[0m\u001b[0;34m)\u001b[0m\u001b[0;34m)\u001b[0m\u001b[0;34m\u001b[0m\u001b[0;34m\u001b[0m\u001b[0m\n\u001b[0m\u001b[1;32m    118\u001b[0m \u001b[0;34m\u001b[0m\u001b[0m\n\u001b[1;32m    119\u001b[0m \u001b[0;34m\u001b[0m\u001b[0m\n",
            "\u001b[0;32m/usr/local/lib/python3.6/dist-packages/sklearn/metrics/cluster/_unsupervised.py\u001b[0m in \u001b[0;36msilhouette_samples\u001b[0;34m(X, labels, metric, **kwds)\u001b[0m\n\u001b[1;32m    232\u001b[0m                                     labels=labels, label_freqs=label_freqs)\n\u001b[1;32m    233\u001b[0m     results = zip(*pairwise_distances_chunked(X, reduce_func=reduce_func,\n\u001b[0;32m--> 234\u001b[0;31m                                               **kwds))\n\u001b[0m\u001b[1;32m    235\u001b[0m     \u001b[0mintra_clust_dists\u001b[0m\u001b[0;34m,\u001b[0m \u001b[0minter_clust_dists\u001b[0m \u001b[0;34m=\u001b[0m \u001b[0mresults\u001b[0m\u001b[0;34m\u001b[0m\u001b[0;34m\u001b[0m\u001b[0m\n\u001b[1;32m    236\u001b[0m     \u001b[0mintra_clust_dists\u001b[0m \u001b[0;34m=\u001b[0m \u001b[0mnp\u001b[0m\u001b[0;34m.\u001b[0m\u001b[0mconcatenate\u001b[0m\u001b[0;34m(\u001b[0m\u001b[0mintra_clust_dists\u001b[0m\u001b[0;34m)\u001b[0m\u001b[0;34m\u001b[0m\u001b[0;34m\u001b[0m\u001b[0m\n",
            "\u001b[0;32m/usr/local/lib/python3.6/dist-packages/sklearn/metrics/pairwise.py\u001b[0m in \u001b[0;36mpairwise_distances_chunked\u001b[0;34m(X, Y, reduce_func, metric, n_jobs, working_memory, **kwds)\u001b[0m\n\u001b[1;32m   1593\u001b[0m             \u001b[0mX_chunk\u001b[0m \u001b[0;34m=\u001b[0m \u001b[0mX\u001b[0m\u001b[0;34m[\u001b[0m\u001b[0msl\u001b[0m\u001b[0;34m]\u001b[0m\u001b[0;34m\u001b[0m\u001b[0;34m\u001b[0m\u001b[0m\n\u001b[1;32m   1594\u001b[0m         D_chunk = pairwise_distances(X_chunk, Y, metric=metric,\n\u001b[0;32m-> 1595\u001b[0;31m                                      n_jobs=n_jobs, **kwds)\n\u001b[0m\u001b[1;32m   1596\u001b[0m         if ((X is Y or Y is None)\n\u001b[1;32m   1597\u001b[0m                 \u001b[0;32mand\u001b[0m \u001b[0mPAIRWISE_DISTANCE_FUNCTIONS\u001b[0m\u001b[0;34m.\u001b[0m\u001b[0mget\u001b[0m\u001b[0;34m(\u001b[0m\u001b[0mmetric\u001b[0m\u001b[0;34m,\u001b[0m \u001b[0;32mNone\u001b[0m\u001b[0;34m)\u001b[0m\u001b[0;34m\u001b[0m\u001b[0;34m\u001b[0m\u001b[0m\n",
            "\u001b[0;32m/usr/local/lib/python3.6/dist-packages/sklearn/metrics/pairwise.py\u001b[0m in \u001b[0;36mpairwise_distances\u001b[0;34m(X, Y, metric, n_jobs, force_all_finite, **kwds)\u001b[0m\n\u001b[1;32m   1750\u001b[0m         \u001b[0mfunc\u001b[0m \u001b[0;34m=\u001b[0m \u001b[0mpartial\u001b[0m\u001b[0;34m(\u001b[0m\u001b[0mdistance\u001b[0m\u001b[0;34m.\u001b[0m\u001b[0mcdist\u001b[0m\u001b[0;34m,\u001b[0m \u001b[0mmetric\u001b[0m\u001b[0;34m=\u001b[0m\u001b[0mmetric\u001b[0m\u001b[0;34m,\u001b[0m \u001b[0;34m**\u001b[0m\u001b[0mkwds\u001b[0m\u001b[0;34m)\u001b[0m\u001b[0;34m\u001b[0m\u001b[0;34m\u001b[0m\u001b[0m\n\u001b[1;32m   1751\u001b[0m \u001b[0;34m\u001b[0m\u001b[0m\n\u001b[0;32m-> 1752\u001b[0;31m     \u001b[0;32mreturn\u001b[0m \u001b[0m_parallel_pairwise\u001b[0m\u001b[0;34m(\u001b[0m\u001b[0mX\u001b[0m\u001b[0;34m,\u001b[0m \u001b[0mY\u001b[0m\u001b[0;34m,\u001b[0m \u001b[0mfunc\u001b[0m\u001b[0;34m,\u001b[0m \u001b[0mn_jobs\u001b[0m\u001b[0;34m,\u001b[0m \u001b[0;34m**\u001b[0m\u001b[0mkwds\u001b[0m\u001b[0;34m)\u001b[0m\u001b[0;34m\u001b[0m\u001b[0;34m\u001b[0m\u001b[0m\n\u001b[0m\u001b[1;32m   1753\u001b[0m \u001b[0;34m\u001b[0m\u001b[0m\n\u001b[1;32m   1754\u001b[0m \u001b[0;34m\u001b[0m\u001b[0m\n",
            "\u001b[0;32m/usr/local/lib/python3.6/dist-packages/sklearn/metrics/pairwise.py\u001b[0m in \u001b[0;36m_parallel_pairwise\u001b[0;34m(X, Y, func, n_jobs, **kwds)\u001b[0m\n\u001b[1;32m   1346\u001b[0m \u001b[0;34m\u001b[0m\u001b[0m\n\u001b[1;32m   1347\u001b[0m     \u001b[0;32mif\u001b[0m \u001b[0meffective_n_jobs\u001b[0m\u001b[0;34m(\u001b[0m\u001b[0mn_jobs\u001b[0m\u001b[0;34m)\u001b[0m \u001b[0;34m==\u001b[0m \u001b[0;36m1\u001b[0m\u001b[0;34m:\u001b[0m\u001b[0;34m\u001b[0m\u001b[0;34m\u001b[0m\u001b[0m\n\u001b[0;32m-> 1348\u001b[0;31m         \u001b[0;32mreturn\u001b[0m \u001b[0mfunc\u001b[0m\u001b[0;34m(\u001b[0m\u001b[0mX\u001b[0m\u001b[0;34m,\u001b[0m \u001b[0mY\u001b[0m\u001b[0;34m,\u001b[0m \u001b[0;34m**\u001b[0m\u001b[0mkwds\u001b[0m\u001b[0;34m)\u001b[0m\u001b[0;34m\u001b[0m\u001b[0;34m\u001b[0m\u001b[0m\n\u001b[0m\u001b[1;32m   1349\u001b[0m \u001b[0;34m\u001b[0m\u001b[0m\n\u001b[1;32m   1350\u001b[0m     \u001b[0;31m# enforce a threading backend to prevent data communication overhead\u001b[0m\u001b[0;34m\u001b[0m\u001b[0;34m\u001b[0m\u001b[0;34m\u001b[0m\u001b[0m\n",
            "\u001b[0;32m/usr/local/lib/python3.6/dist-packages/sklearn/metrics/pairwise.py\u001b[0m in \u001b[0;36meuclidean_distances\u001b[0;34m(X, Y, Y_norm_squared, squared, X_norm_squared)\u001b[0m\n\u001b[1;32m    311\u001b[0m         \u001b[0mnp\u001b[0m\u001b[0;34m.\u001b[0m\u001b[0mfill_diagonal\u001b[0m\u001b[0;34m(\u001b[0m\u001b[0mdistances\u001b[0m\u001b[0;34m,\u001b[0m \u001b[0;36m0\u001b[0m\u001b[0;34m)\u001b[0m\u001b[0;34m\u001b[0m\u001b[0;34m\u001b[0m\u001b[0m\n\u001b[1;32m    312\u001b[0m \u001b[0;34m\u001b[0m\u001b[0m\n\u001b[0;32m--> 313\u001b[0;31m     \u001b[0;32mreturn\u001b[0m \u001b[0mdistances\u001b[0m \u001b[0;32mif\u001b[0m \u001b[0msquared\u001b[0m \u001b[0;32melse\u001b[0m \u001b[0mnp\u001b[0m\u001b[0;34m.\u001b[0m\u001b[0msqrt\u001b[0m\u001b[0;34m(\u001b[0m\u001b[0mdistances\u001b[0m\u001b[0;34m,\u001b[0m \u001b[0mout\u001b[0m\u001b[0;34m=\u001b[0m\u001b[0mdistances\u001b[0m\u001b[0;34m)\u001b[0m\u001b[0;34m\u001b[0m\u001b[0;34m\u001b[0m\u001b[0m\n\u001b[0m\u001b[1;32m    314\u001b[0m \u001b[0;34m\u001b[0m\u001b[0m\n\u001b[1;32m    315\u001b[0m \u001b[0;34m\u001b[0m\u001b[0m\n",
            "\u001b[0;31mKeyboardInterrupt\u001b[0m: "
          ]
        },
        {
          "output_type": "display_data",
          "data": {
            "image/png": "[encoded data removed]",
            "text/plain": [
              "<Figure size 1296x504 with 2 Axes>"
            ]
          },
          "metadata": {
            "tags": []
          }
        }
      ]
    },
    {
      "cell_type": "code",
      "metadata": {
        "id": "M0KmNLQKitjU"
      },
      "source": [
        ""
      ],
      "execution_count": null,
      "outputs": []
    }
  ]
}